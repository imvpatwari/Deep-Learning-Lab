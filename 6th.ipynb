{
 "cells": [
  {
   "cell_type": "code",
   "execution_count": 1,
   "id": "79d537df-62a6-4a28-91c0-a76f0bef0203",
   "metadata": {},
   "outputs": [],
   "source": [
    "# Import necessary libraries\n",
    "import numpy as np\n",
    "import tensorflow as tf\n",
    "from tensorflow.keras.applications import MobileNetV2\n",
    "from tensorflow.keras.models import Sequential\n",
    "from tensorflow.keras.layers import Dense, GlobalAveragePooling2D \n",
    "import matplotlib.pyplot as plt"
   ]
  },
  {
   "cell_type": "code",
   "execution_count": 3,
   "id": "929eade8-991b-4d6d-9524-4211856195ae",
   "metadata": {},
   "outputs": [
    {
     "name": "stdout",
     "output_type": "stream",
     "text": [
      "X_train shape: (1000, 224, 224, 3)\n",
      "y_train shape: (1000,)\n"
     ]
    }
   ],
   "source": [
    "num_samples = 1000 # Number of samples\n",
    "num_classes = 10 # Number of classes\n",
    "X_train = np.random.rand(num_samples, 224, 224, 3).astype(np.float32) \n",
    "y_train = np.random.randint(0, num_classes, num_samples)\n",
    "print(\"X_train shape:\", X_train.shape)\n",
    "print(\"y_train shape:\", y_train.shape)"
   ]
  },
  {
   "cell_type": "code",
   "execution_count": null,
   "id": "4cf1d642-9493-40bf-82e3-e0b2c6f34b59",
   "metadata": {},
   "outputs": [],
   "source": [
    "# Load pre‐trained MobileNetV2 model + higher‐level layers\n",
    "base_model = MobileNetV2(weights='imagenet', include_top=False, input_shape=(224\n",
    "        # Display the model architecture\n",
    "base_model.summary()"
   ]
  }
 ],
 "metadata": {
  "kernelspec": {
   "display_name": "Python 3 (ipykernel)",
   "language": "python",
   "name": "python3"
  },
  "language_info": {
   "codemirror_mode": {
    "name": "ipython",
    "version": 3
   },
   "file_extension": ".py",
   "mimetype": "text/x-python",
   "name": "python",
   "nbconvert_exporter": "python",
   "pygments_lexer": "ipython3",
   "version": "3.12.4"
  }
 },
 "nbformat": 4,
 "nbformat_minor": 5
}
